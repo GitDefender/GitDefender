{
 "cells": [
  {
   "cell_type": "code",
   "execution_count": 12,
   "metadata": {},
   "outputs": [],
   "source": [
    "from get_commit import get_commit\n",
    "# 파일명과 클래스명, 함수명은 동일하게 적지않습니다\n",
    "# dependency 에서 오류가 나면 헷갈려서 고치기 어렵습니다"
   ]
  },
  {
   "cell_type": "code",
   "execution_count": 14,
   "metadata": {},
   "outputs": [],
   "source": [
    "test = get_commit()"
   ]
  },
  {
   "cell_type": "code",
   "execution_count": 19,
   "metadata": {},
   "outputs": [
    {
     "name": "stdout",
     "output_type": "stream",
     "text": [
      "None\n"
     ]
    }
   ],
   "source": [
    "test._get_repository()\n",
    "print(test._get_repository())"
   ]
  },
  {
   "cell_type": "code",
   "execution_count": 21,
   "metadata": {},
   "outputs": [
    {
     "name": "stdout",
     "output_type": "stream",
     "text": [
      "import requests\r\n",
      "from crawl_tool_base import CrawlTool\r\n",
      "\r\n",
      "class get_commit(CrawlTool):\r\n",
      "\r\n",
      "    def __init__(self):\r\n",
      "        CrawlTool.__init__(self)\r\n",
      "\r\n",
      "    #repo 가져오기\r\n",
      "    def _get_repository(self):\r\n",
      "        repo_user = \"u0jin\"\r\n",
      "        repo_name = \"test-server\"\r\n",
      "\r\n",
      "        repo_url = \"https://api.github.com/repos/\" + repo_user + \"/\" + repo_name + \"/commits\"\r\n",
      "\r\n",
      "        repo_key = \"?client_id=\"+ str(self.client_id) + \"&client_secret=\" + str(self.client_secret)\r\n",
      "\r\n",
      "        response = requests.get(repo_url + repo_key)\r\n",
      "        json_data = response.json()\r\n",
      "        #print(json_data)\r\n",
      "\r\n",
      "\r\n",
      "    # list안에 sha 만 뽑아 내기\r\n",
      "    def _sha_list(self, commit_sha=None):\r\n",
      "\r\n",
      "        _get_repository()\r\n",
      "        commit_sha = list()\r\n",
      "        for data in json_data:\r\n",
      "            commit_sha.append(data['sha'])\r\n",
      "        \r\n",
      "    # sha하나당 commit 하나씩 불러옴\r\n",
      "    def _sha_commit(self, commit_sha=None):\r\n",
      "\r\n",
      "        for a in commit_sha:\r\n",
      "            response = requests.get(repo_url + \"/\" + a + repo_key)\r\n",
      "            json_data = response.json()\r\n",
      "            print(json_data)\r\n",
      "\r\n",
      "\r\n",
      "if __name__ == \"__main__\":\r\n",
      "    commit = get_commit()\r\n",
      "    commit._sha_commit()"
     ]
    }
   ],
   "source": [
    "cat get_commit.py"
   ]
  },
  {
   "cell_type": "markdown",
   "metadata": {},
   "source": [
    "```python\n",
    "test._get_repository()\n",
    ">>> None\n",
    "```\n",
    "\n",
    "왜 그럴까?\n",
    "return 이 없기 때문이다.\n",
    "보아하니 앞에 _를 붙여줘서 내부에서 수행하는건가 보다.\n",
    "\n",
    "그러면 _가 없는 public 함수를 실행해야하는데\n",
    "어디있을까? 왜 없지?\n",
    "이걸 안적고 무엇을 실행하는건지 알 수 없다"
   ]
  },
  {
   "cell_type": "markdown",
   "metadata": {},
   "source": [
    "## 앞으로 김유진의 할일 (진지) (근엄) (왕진지)\n",
    "\n",
    "1. 클래스에 익숙해진다\n",
    "2. python3 manage.py shell_plus 에 익숙해진다\n",
    "3. 이거 본 뒤로 완전 숙지하자. 테스트 못한다 하지 않는다\n",
    "4. 아침에 늦잠자지말고 일어나서 아침밥먹고 씻고 카페나 도서관가서 django, python 공부하자\n",
    "5. 할일은 slack 개발채널에 있다.\n",
    "\n",
    "\n",
    "`get_commit.py` 의 Line. 26을 보고 느낀점\n",
    "> _get_repository 함수에서 수행되는건 종료후에 사라진다. 지역변수니까\n",
    "> 근데 왜 _sha_list 함수 Line. 28 에선 이미 사라진 지역변수인 json_data 를 사용하는건가? 왜?\n",
    "\n",
    "> 코드를 짜기전에 노트에 적고 설계해서 짜는 습관을 들이자"
   ]
  },
  {
   "cell_type": "markdown",
   "metadata": {},
   "source": [
    "`get_commit.py` Line. 34 를 보고 느끼는점\n",
    "\n",
    "commit_sha = None 으로 default parameter 설정이 되어있다.\n",
    "None Type은 iterable 하지않다.\n",
    "그럼 for문에 non-iterable 자료형이 들어가면? 오류를 내지않을까?\n",
    "\n",
    "try: except: 구문으로 예외처리를 해주자.\n",
    "\n",
    "그리고 코드 테스트는\n",
    "python3 manage.py shell_plus 를 통해 하라"
   ]
  },
  {
   "cell_type": "code",
   "execution_count": null,
   "metadata": {},
   "outputs": [],
   "source": []
  }
 ],
 "metadata": {
  "kernelspec": {
   "display_name": "Django Shell-Plus",
   "language": "python",
   "name": "django_extensions"
  },
  "language_info": {
   "codemirror_mode": {
    "name": "ipython",
    "version": 3
   },
   "file_extension": ".py",
   "mimetype": "text/x-python",
   "name": "python",
   "nbconvert_exporter": "python",
   "pygments_lexer": "ipython3",
   "version": "3.6.8"
  }
 },
 "nbformat": 4,
 "nbformat_minor": 2
}
